{
 "cells": [
  {
   "cell_type": "code",
   "execution_count": 1,
   "metadata": {
    "collapsed": true,
    "nbsphinx": "hidden"
   },
   "outputs": [],
   "source": [
    "# this cell is hidden\n",
    "import tempfile, os\n",
    "startdir = os.path.abspath('.')\n",
    "tmpdir = tempfile.mkdtemp()\n",
    "os.chdir(tmpdir)"
   ]
  },
  {
   "cell_type": "raw",
   "metadata": {
    "raw_mimetype": "text/restructuredtext"
   },
   "source": [
    ".. _custom-data-format:\n",
    "\n",
    "Reading a Custom Data Format\n",
    "----------------------------\n",
    "\n",
    ".. currentmodule:: nbodykit.io\n",
    "\n",
    "Users can implement their own subclasses of :class:`CatalogSource` for reading\n",
    "custom data formats with a few easy steps. The core functionality of the\n",
    ":class:`CatalogSource` classes described in this section use the\n",
    ":mod:`nbodykit.io` module for reading data from disk. This module implements the\n",
    ":class:`nbodykit.io.base.FileType` base class, which is an abstract\n",
    "class that behaves like a :obj:`file`-like object. For the built-in\n",
    "file formats discussed in this section, we have implemented the following\n",
    "subclasses of :class:`~nbodykit.io.base.FileType` in the :mod:`nbodykit.io`\n",
    "module: :class:`~csv.CSVFile`, :class:`~binary.BinaryFile`,\n",
    ":class:`~bigfile.BigFile`, :class:`~hdf.HDFFile`, and :class:`~fits.FITSFile`.\n",
    "\n",
    "To make a valid subclass of :class:`~nbodykit.io.base.FileType`, users must:\n",
    "\n",
    "#. Implement the :func:`~nbodykit.io.base.FileType.read` function that reads\n",
    "   a range of the data from disk.\n",
    "#. Set the :attr:`size` in the :func:`__init__` function, specifying the total\n",
    "   size of the data on disk.\n",
    "#. Set the :attr:`dtype` in the :func:`__init__` function, specifying the type\n",
    "   of data stored on disk.\n",
    "\n",
    "Once we have the custom subclass implemented, the\n",
    ":func:`nbodykit.source.catalog.file.FileCatalogFactory` function can\n",
    "be used to automatically create a custom :class:`CatalogSource` object\n",
    "from the subclass.\n",
    "\n",
    "As a toy example, we will illustrate how this is done for data saved\n",
    "using the numpy ``.npy`` format. First, we will implement our\n",
    "subclass of the :class:`~nbodykit.io.base.FileType` class:"
   ]
  },
  {
   "cell_type": "code",
   "execution_count": 10,
   "metadata": {
    "collapsed": true
   },
   "outputs": [],
   "source": [
    "from nbodykit.io.base import FileType\n",
    "\n",
    "class NPYFile(FileType):\n",
    "    \"\"\"\n",
    "    A file-like object to read numpy ``.npy`` files\n",
    "    \"\"\"\n",
    "    def __init__(self, path):\n",
    "        self.path = path\n",
    "        self.attrs = {}\n",
    "        # load the data and set size and dtype\n",
    "        self._data = numpy.load(self.path)\n",
    "        self.size = len(self._data) # total size\n",
    "        self.dtype = self._data.dtype # data dtype\n",
    "        \n",
    "    def read(self, columns, start, stop, step=1):\n",
    "        \"\"\"\n",
    "        Read the specified column(s) over the given range\n",
    "        \"\"\"\n",
    "        return self._data[start:stop:step]"
   ]
  },
  {
   "cell_type": "code",
   "execution_count": 13,
   "metadata": {
    "collapsed": true,
    "nbsphinx": "hidden"
   },
   "outputs": [],
   "source": [
    "import shutil\n",
    "os.chdir(startdir)\n",
    "shutil.rmtree(tmpdir)"
   ]
  }
 ],
 "metadata": {
  "celltoolbar": "Edit Metadata",
  "kernelspec": {
   "display_name": "Python 3",
   "language": "python",
   "name": "python3"
  },
  "language_info": {
   "codemirror_mode": {
    "name": "ipython",
    "version": 3
   },
   "file_extension": ".py",
   "mimetype": "text/x-python",
   "name": "python",
   "nbconvert_exporter": "python",
   "pygments_lexer": "ipython3",
   "version": "3.6.4"
  }
 },
 "nbformat": 4,
 "nbformat_minor": 2
}
